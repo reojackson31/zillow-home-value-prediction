{
 "cells": [
  {
   "cell_type": "code",
   "execution_count": 1,
   "metadata": {},
   "outputs": [],
   "source": [
    "import pandas as pd\n",
    "import numpy as np\n",
    "import seaborn as sns\n",
    "import matplotlib.pyplot as plt\n",
    "import warnings\n",
    "warnings.filterwarnings('ignore')"
   ]
  },
  {
   "cell_type": "markdown",
   "metadata": {},
   "source": [
    "Importing the Dataset and Preprocessing"
   ]
  },
  {
   "cell_type": "code",
   "execution_count": 2,
   "metadata": {},
   "outputs": [],
   "source": [
    "# Load the datasets\n",
    "properties = pd.read_csv('properties_2016.csv')\n",
    "train = pd.read_csv('train_2016_v2.csv')\n",
    "\n",
    "# Join the datasets on the 'parcelid' column\n",
    "merged_data = pd.merge(train, properties, on='parcelid', how='left')\n",
    "\n",
    "merged_data['latitude'] = merged_data['latitude']/1000000\n",
    "merged_data['longitude'] = merged_data['longitude']/1000000\n",
    "\n",
    "# Setting date as index\n",
    "merged_data['transactiondate'] = pd.to_datetime(merged_data['transactiondate'])\n",
    "merged_data.set_index('transactiondate', inplace=True)\n",
    "\n",
    "# Select the columns you're interested in\n",
    "features = ['bathroomcnt', 'bedroomcnt', 'taxvaluedollarcnt']  # Add or remove features as needed\n",
    "descriptive_stats = merged_data[features].describe()\n",
    "\n",
    "geocolumns = ['latitude', 'longitude', 'propertycountylandusecode', 'propertylandusetypeid', \n",
    "              'propertyzoningdesc', 'regionidcity', 'regionidcounty', 'regionidneighborhood', \n",
    "              'regionidzip', 'censustractandblock', 'rawcensustractandblock']\n",
    "\n",
    "geoprop = merged_data[geocolumns]\n",
    "\n",
    "# Drop rows without latitude and longitude\n",
    "geoprop.dropna(axis=0, subset=['latitude', 'longitude'], inplace=True)\n",
    "\n",
    "\n",
    "from sklearn.preprocessing import OneHotEncoder\n",
    "from sklearn.neighbors import KNeighborsClassifier\n",
    "\n",
    "def fillna_knn(df, base, target, fraction=1, threshold=10):\n",
    "    assert isinstance(base, list) or isinstance(base, np.ndarray) and isinstance(target, str)\n",
    "    whole = [target] + base\n",
    "\n",
    "    miss = df[target].isnull()\n",
    "    notmiss = ~miss\n",
    "    nummiss = miss.sum()\n",
    "\n",
    "    enc = OneHotEncoder()\n",
    "    X_target = df.loc[notmiss, whole].sample(frac=fraction)\n",
    "    \n",
    "    # Fit and transform the target column\n",
    "    enc.fit(X_target[target].unique().reshape((-1, 1)))\n",
    "    Y = enc.transform(X_target[target].values.reshape((-1, 1))).toarray()\n",
    "    X = X_target[base]\n",
    "\n",
    "    # Fitting the KNN model\n",
    "    n_neighbors = 10\n",
    "    clf = KNeighborsClassifier(n_neighbors, weights='uniform')\n",
    "    clf.fit(X, Y)\n",
    "\n",
    "    # Predicting the missing values\n",
    "    Z = clf.predict(df.loc[miss, base])\n",
    "\n",
    "    # Replacing the missing values in the original dataframe\n",
    "    numunpredicted = (Z == 0).all(axis=1).sum()\n",
    "    if numunpredicted / nummiss * 100 < threshold:\n",
    "        #print('writing result to df')\n",
    "        df.loc[miss, target] = np.dot(Z, enc.categories_[0])\n",
    "        #print('num of unpredictable data:', numunpredicted)\n",
    "    #else:\n",
    "    #    print('out of threshold: {}% > {}%'.format(numunpredicted / nummiss * 100, threshold))\n",
    "\n",
    "# Filling the missing values to the most missing values\n",
    "merged_data.dropna(axis=0, subset=['latitude', 'longitude'], inplace=True)\n",
    "\n",
    "fillna_knn(df=merged_data, base=['latitude', 'longitude'], target='regionidcity', fraction=0.15)\n",
    "\n",
    "fillna_knn(df=merged_data, base=['latitude', 'longitude'], target='regionidzip', fraction=0.15)\n",
    "\n",
    "\n",
    "columns_to_drop = [\n",
    "    'finishedsquarefeet13', 'finishedsquarefeet15', 'finishedfloor1squarefeet', \n",
    "    'finishedsquarefeet50', 'storytypeid', 'buildingclasstypeid', \n",
    "    'architecturalstyletypeid', 'typeconstructiontypeid', 'finishedsquarefeet6', \n",
    "    'numberofstories', 'rawcensustractandblock', 'censustractandblock', \n",
    "    'assessmentyear', 'parcelid', 'transactiondate', 'basementsqft', 'yardbuildingsqft26','propertyzoningdesc','regionidneighborhood','calculatedbathnbr','propertycountylandusecode'\n",
    "]\n",
    "\n",
    "# Assuming your DataFrame is named 'merged_data'\n",
    "merged_data.drop(columns=columns_to_drop, inplace=True, errors='ignore')\n",
    "\n",
    "\n",
    "# Impute 0\n",
    "impute_0_vars = [\"yardbuildingsqft17\", \"fireplacecnt\", \"poolcnt\", \"garagecarcnt\", \"garagetotalsqft\",\n",
    "                 \"pooltypeid2\", \"poolsizesum\", \"decktypeid\", \"taxdelinquencyflag\"]\n",
    "\n",
    "# Impute mode\n",
    "impute_mode_vars = [\"airconditioningtypeid\", \"heatingorsystemtypeid\", \"unitcnt\", \"fips\", \n",
    "                    \"propertylandusetypeid\", \"regionidcounty\", \"yearbuilt\"] \n",
    "\n",
    "# Impute median \n",
    "impute_median_vars = [\"buildingqualitytypeid\", \"lotsizesquarefeet\", \"bathroomcnt\", \"bedroomcnt\", \"calculatedfinishedsquarefeet\",\n",
    "                      \"structuretaxvaluedollarcnt\", \"landtaxvaluedollarcnt\", \"latitude\", \"longitude\",\"finishedsquarefeet12\",\"taxvaluedollarcnt\"\n",
    "                      ,\"taxamount\"]\n",
    "\n",
    "from sklearn.compose import ColumnTransformer\n",
    "from sklearn.impute import SimpleImputer\n",
    "import pandas as pd\n",
    "\n",
    "# Define your ColumnTransformer (as you did)\n",
    "univariate_impute_pipe = ColumnTransformer([\n",
    "        (\"impute_0\", SimpleImputer(strategy=\"constant\", fill_value=0), impute_0_vars),\n",
    "        (\"impute_mode\", SimpleImputer(strategy=\"most_frequent\"), impute_mode_vars),\n",
    "        (\"impute_median\", SimpleImputer(strategy=\"median\"), impute_median_vars),\n",
    "    ],\n",
    "    remainder='passthrough'\n",
    ")\n",
    "\n",
    "# Fit and transform the data\n",
    "transformed_data = univariate_impute_pipe.fit_transform(merged_data)\n",
    "\n",
    "# Get the names of the columns transformed\n",
    "transformed_columns = impute_0_vars + impute_mode_vars + impute_median_vars\n",
    "\n",
    "# Identify columns that were 'passed through'\n",
    "remainder_columns = [col for col in merged_data.columns if col not in transformed_columns]\n",
    "\n",
    "# Combine all column names\n",
    "all_columns = transformed_columns + remainder_columns\n",
    "\n",
    "# Create DataFrame from the transformed data\n",
    "merged_data = pd.DataFrame(transformed_data, columns=all_columns, index=merged_data.index)\n",
    "\n",
    "from sklearn.experimental import enable_iterative_imputer\n",
    "from sklearn.impute import IterativeImputer, SimpleImputer\n",
    "from sklearn.ensemble import RandomForestRegressor\n",
    "from sklearn.compose import ColumnTransformer\n",
    "import pandas as pd\n",
    "\n",
    "# Define your column names for categorical and numerical variables\n",
    "cat_impute_vars = [\"airconditioningtypeid\", \"heatingorsystemtypeid\", \"fips\", \"propertylandusetypeid\", \"regionidcounty\", \"pooltypeid2\", \"decktypeid\", \"taxdelinquencyflag\"] \n",
    "numeric_impute_vars = [\"bathroomcnt\", \"bedroomcnt\", \"buildingqualitytypeid\", \"calculatedfinishedsquarefeet\",\n",
    "                  \"fireplacecnt\", \"garagecarcnt\", \"garagetotalsqft\", \"latitude\", \"longitude\", \"lotsizesquarefeet\", \"poolcnt\",\n",
    "                  \"poolsizesum\", \"unitcnt\", \"yardbuildingsqft17\", \"yearbuilt\", \"structuretaxvaluedollarcnt\", \"landtaxvaluedollarcnt\"]\n",
    "\n",
    "# Define your ColumnTransformer with multivariate imputation\n",
    "multivariate_impute_pipe = ColumnTransformer([\n",
    "        (\"impute_cats\", SimpleImputer(strategy=\"constant\", fill_value='missing'), cat_impute_vars),\n",
    "        (\"impute_num\", IterativeImputer(estimator=RandomForestRegressor(n_estimators=1, max_depth=30, min_samples_leaf=32), random_state=0, max_iter=1), numeric_impute_vars),\n",
    "    ],\n",
    "    remainder='passthrough'\n",
    ")\n",
    "\n",
    "# Fit and transform the data\n",
    "transformed_data = multivariate_impute_pipe.fit_transform(merged_data)\n",
    "\n",
    "# Get the names of the columns transformed\n",
    "transformed_columns = cat_impute_vars + numeric_impute_vars\n",
    "\n",
    "# Identify columns that were 'passed through'\n",
    "remainder_columns = [col for col in merged_data.columns if col not in transformed_columns]\n",
    "\n",
    "# Combine all column names\n",
    "all_columns = transformed_columns + remainder_columns\n",
    "\n",
    "# Create DataFrame from the transformed data\n",
    "transformed_merged_data = pd.DataFrame(transformed_data, columns=all_columns, index=merged_data.index)\n",
    "transformed_merged_data.reset_index(inplace=True)\n",
    "\n",
    "# Now transformed_merged_data is your new DataFrame with imputations\n",
    "\n",
    "#Additional pre-processing steps added\n",
    "\n",
    "transformed_merged_data.drop(columns=['fips','latitude','longitude'], inplace=True, errors='ignore')\n",
    "\n",
    "transformed_merged_data.loc[transformed_merged_data['taxdelinquencyflag']=='Y', 'taxdelinquencyflag'] = 1\n",
    "\n",
    "transformed_merged_data.loc[transformed_merged_data['hashottuborspa']==True, 'hashottuborspa'] = 1\n",
    "transformed_merged_data.loc[transformed_merged_data['fireplaceflag']==True, 'fireplaceflag'] = 1\n",
    "\n",
    "transformed_merged_data['hashottuborspa'].fillna(0,inplace=True)\n",
    "transformed_merged_data['pooltypeid10'].fillna(0,inplace=True)\n",
    "transformed_merged_data['pooltypeid7'].fillna(0,inplace=True)\n",
    "transformed_merged_data['threequarterbathnbr'].fillna(0,inplace=True)\n",
    "transformed_merged_data['fireplaceflag'].fillna(0,inplace=True)\n",
    "transformed_merged_data['taxdelinquencyyear'].fillna(0,inplace=True)\n",
    "transformed_merged_data['fullbathcnt'].fillna(0,inplace=True)"
   ]
  },
  {
   "cell_type": "markdown",
   "metadata": {},
   "source": [
    "Feature Engineering"
   ]
  },
  {
   "cell_type": "code",
   "execution_count": 3,
   "metadata": {},
   "outputs": [],
   "source": [
    "transformed_merged_data['transaction_month'] = pd.DatetimeIndex(transformed_merged_data['transactiondate']).month\n",
    "transformed_merged_data.drop(columns=['transactiondate'], inplace=True, errors='ignore')\n",
    "\n",
    "transformed_merged_data['years_life'] = 2018 - transformed_merged_data['yearbuilt']\n",
    "transformed_merged_data.drop(columns=['yearbuilt'], inplace=True, errors='ignore')\n",
    "\n",
    "transformed_merged_data['bathroom_bedroom_ratio'] = 0 \n",
    "for i in range(len(transformed_merged_data)):\n",
    "    if transformed_merged_data.loc[i]['bedroomcnt']!=0 and transformed_merged_data.loc[i]['bathroomcnt']!=0:\n",
    "        transformed_merged_data.at[i,'bathroom_bedroom_ratio'] = transformed_merged_data.loc[i]['bedroomcnt']/transformed_merged_data.loc[i]['bathroomcnt']\n",
    "\n",
    "transformed_merged_data['avg_size_pool'] = 0 \n",
    "for i in range(len(transformed_merged_data)):\n",
    "    if transformed_merged_data.loc[i]['poolsizesum']!=0 and transformed_merged_data.loc[i]['poolcnt']!=0:\n",
    "        transformed_merged_data.at[i,'avg_size_pool'] = transformed_merged_data.loc[i]['poolsizesum']/transformed_merged_data.loc[i]['poolcnt']\n",
    "\n",
    "transformed_merged_data['pools_patio_ratio'] = 0 \n",
    "for i in range(len(transformed_merged_data)):\n",
    "    if transformed_merged_data.loc[i]['poolsizesum']!=0 and transformed_merged_data.loc[i]['yardbuildingsqft17']!=0:\n",
    "        transformed_merged_data.at[i,'pools_patio_ratio'] = transformed_merged_data.loc[i]['poolsizesum']/transformed_merged_data.loc[i]['yardbuildingsqft17']"
   ]
  },
  {
   "cell_type": "markdown",
   "metadata": {},
   "source": [
    "Correlation Analysis & Feature Selection using Lasso Regression and Random Forest Feature Importance"
   ]
  },
  {
   "cell_type": "code",
   "execution_count": 4,
   "metadata": {},
   "outputs": [],
   "source": [
    "df = transformed_merged_data.copy()\n",
    "\n",
    "X = df.drop(['logerror'], axis=1)\n",
    "y = df[['logerror']]\n",
    "\n",
    "categorical_fields = ['airconditioningtypeid', 'heatingorsystemtypeid', 'propertylandusetypeid', 'regionidcounty', 'pooltypeid2', 'decktypeid', 'taxdelinquencyflag', 'buildingqualitytypeid', 'hashottuborspa', 'pooltypeid10', 'pooltypeid7', 'regionidcity', 'regionidzip', 'fireplaceflag']\n",
    "\n",
    "X_numeric = X.drop(columns=categorical_fields, axis=1)\n",
    "\n",
    "X_categorical = X[categorical_fields]\n",
    "\n",
    "corr = X_numeric.corr()\n",
    "corr = corr.mask(corr.abs() <= 0.8, 0)\n",
    "#corr.to_csv('correlation_matrix.csv')\n",
    "\n",
    "\n",
    "#Feature Selection using Lasso Regression\n",
    "\n",
    "#Min Max Scaling on X\n",
    "from sklearn.preprocessing import MinMaxScaler\n",
    "scaler = MinMaxScaler()\n",
    "X = df.drop(columns=['logerror'], errors='ignore')\n",
    "X_std = scaler.fit_transform(X)\n",
    "X_std = pd.DataFrame(X_std,columns = X.columns)\n",
    "y = df['logerror']\n",
    "\n",
    "#Import train_test_split\n",
    "\n",
    "from sklearn.model_selection import train_test_split\n",
    "X_std_train, X_std_test, y_train,y_test = train_test_split(X_std,y,test_size=0.3,random_state=0)\n",
    "\n",
    "#Run lasso for feature selection\n",
    "from sklearn.linear_model import Lasso\n",
    "from sklearn.feature_selection import SelectFromModel\n",
    "\n",
    "feature_names = X.columns\n",
    "lasso = Lasso(alpha=0.00000005,max_iter=1000, random_state=0)\n",
    "lasso.fit(X_std_train, y_train)\n",
    "with pd.option_context(\"display.max_rows\",None,\"display.max_columns\",None):\n",
    "    print(pd.DataFrame(list(zip(X_std.columns,lasso.coef_)), columns = ['predictor','coefficient']))\n",
    "\n",
    "\n",
    "#Feature Importance Score using Random Forest\n",
    "\n",
    "df = transformed_merged_data.copy()\n",
    "\n",
    "X = df.drop(['logerror'], axis=1)\n",
    "y = df['logerror']\n",
    "\n",
    "categorical_fields = ['transaction_month','airconditioningtypeid', 'heatingorsystemtypeid', 'propertylandusetypeid', 'regionidcounty', 'pooltypeid2', 'decktypeid', 'taxdelinquencyflag', 'buildingqualitytypeid', 'hashottuborspa', 'pooltypeid10', 'pooltypeid7', 'regionidcity', 'regionidzip', 'fireplaceflag']\n",
    "\n",
    "for col in categorical_fields:\n",
    "    X[col] = X[col].astype('category')\n",
    "\n",
    "\n",
    "from sklearn.ensemble import RandomForestRegressor\n",
    "randomforest = RandomForestRegressor(random_state=0)\n",
    "model = randomforest.fit(X, y)\n",
    "\n",
    "feature_imp_df = pd.DataFrame(list(zip(X.columns,model.feature_importances_)), columns = ['predictor','feature importance'])\n",
    "\n",
    "#feature_imp_df.to_csv('random_forest_feature_importance.csv',index=False)"
   ]
  },
  {
   "cell_type": "markdown",
   "metadata": {},
   "source": [
    "Apply Feature Selection for Modelling"
   ]
  },
  {
   "cell_type": "code",
   "execution_count": null,
   "metadata": {},
   "outputs": [],
   "source": [
    "df = transformed_merged_data.copy()\n",
    "\n",
    "corr_columns_remove = ['fullbathcnt','finishedsquarefeet12','garagetotalsqft','structuretaxvaluedollarcnt','landtaxvaluedollarcnt','taxvaluedollarcnt','avg_size_pool']\n",
    "\n",
    "lasso_columns_remove = ['decktypeid', 'fireplacecnt', 'fireplaceflag', 'hashottuborspa', 'poolcnt', 'pools_patio_ratio', 'poolsizesum', 'taxdelinquencyflag', 'transaction_month']\n",
    "\n",
    "df = df.drop(columns=corr_columns_remove, axis=1)\n",
    "\n",
    "df = df.drop(columns=lasso_columns_remove, axis=1)\n",
    "\n",
    "X = df.drop(['logerror'], axis=1)\n",
    "y = df['logerror']\n",
    "\n",
    "categorical_fields = ['airconditioningtypeid', 'heatingorsystemtypeid', 'propertylandusetypeid', 'regionidcounty', 'pooltypeid2', 'buildingqualitytypeid', 'pooltypeid10', 'pooltypeid7', 'regionidcity', 'regionidzip']\n",
    "\n",
    "removed_cols = set(corr_columns_remove + lasso_columns_remove)\n",
    "\n",
    "categorical_fields = [field for field in categorical_fields if field not in removed_cols]\n",
    "\n",
    "numerical_fields = X.columns.difference(categorical_fields)\n",
    "\n",
    "for col in categorical_fields:\n",
    "    X[col] = X[col].astype('category')"
   ]
  },
  {
   "cell_type": "markdown",
   "metadata": {},
   "source": [
    "Remove Outliers using Isolation Forest"
   ]
  },
  {
   "cell_type": "code",
   "execution_count": null,
   "metadata": {},
   "outputs": [],
   "source": [
    "preprocessed_outliers = df.drop(columns=categorical_fields, axis=1)\n",
    "from sklearn.ensemble import IsolationForest\n",
    "isolforest = IsolationForest(contamination=0.05,random_state=0)\n",
    "pred = isolforest.fit_predict(preprocessed_outliers)\n",
    "\n",
    "from numpy import where\n",
    "anomaly_index = where(pred==-1)\n",
    "anomaly_values = df.iloc[anomaly_index]\n",
    "\n",
    "X.drop(anomaly_values.index,inplace=True, errors='ignore')\n",
    "y.drop(anomaly_values.index,inplace=True, errors='ignore')"
   ]
  },
  {
   "cell_type": "markdown",
   "metadata": {},
   "source": [
    "Train-Test Split Without Standardizing Predictors"
   ]
  },
  {
   "cell_type": "code",
   "execution_count": null,
   "metadata": {},
   "outputs": [],
   "source": [
    "from sklearn.model_selection import train_test_split\n",
    "X_train,X_test,y_train,y_test = train_test_split(X,y,test_size=0.33,random_state=0)"
   ]
  },
  {
   "cell_type": "markdown",
   "metadata": {},
   "source": [
    "Code for Standardizing Numeric Predictors"
   ]
  },
  {
   "cell_type": "code",
   "execution_count": null,
   "metadata": {},
   "outputs": [],
   "source": [
    "from sklearn.preprocessing import StandardScaler\n",
    "\n",
    "X_train_numeric = X_train[numerical_fields]\n",
    "X_test_numeric = X_test[numerical_fields]\n",
    "\n",
    "# Standardize predictors\n",
    "scaler = StandardScaler()\n",
    "X_train_scaled_numeric = scaler.fit_transform(X_train_numeric)\n",
    "X_test_scaled_numeric = scaler.transform(X_test_numeric)\n",
    "\n",
    "X_train_scaled_numeric = pd.DataFrame(X_train_scaled_numeric, columns=numerical_fields)\n",
    "X_test_scaled_numeric = pd.DataFrame(X_test_scaled_numeric, columns=numerical_fields)\n",
    "\n",
    "X_train_scaled = pd.concat([X_train_scaled_numeric, X_train[categorical_fields].reset_index(drop=True)], axis=1)\n",
    "X_test_scaled = pd.concat([X_test_scaled_numeric, X_test[categorical_fields].reset_index(drop=True)], axis=1)"
   ]
  },
  {
   "cell_type": "markdown",
   "metadata": {},
   "source": [
    "Code for Dummifying Categorical Predictors without Standardization"
   ]
  },
  {
   "cell_type": "code",
   "execution_count": null,
   "metadata": {},
   "outputs": [],
   "source": [
    "X_train_encoded = pd.get_dummies(X_train, columns=categorical_fields)\n",
    "X_test_encoded = pd.get_dummies(X_test, columns=categorical_fields)"
   ]
  },
  {
   "cell_type": "markdown",
   "metadata": {},
   "source": [
    "Code for Dummifying Categorical Predictors with Standardization"
   ]
  },
  {
   "cell_type": "code",
   "execution_count": null,
   "metadata": {},
   "outputs": [],
   "source": [
    "X_train_scaled_encoded = pd.get_dummies(X_train_scaled, columns=categorical_fields)\n",
    "X_test_scaled_encoded = pd.get_dummies(X_test_scaled, columns=categorical_fields)"
   ]
  },
  {
   "cell_type": "markdown",
   "metadata": {},
   "source": [
    "Linear Regression"
   ]
  },
  {
   "cell_type": "code",
   "execution_count": null,
   "metadata": {},
   "outputs": [
    {
     "name": "stdout",
     "output_type": "stream",
     "text": [
      "Test MSE using Linear Regression = 226281699205811.72\n"
     ]
    }
   ],
   "source": [
    "from sklearn.linear_model import LinearRegression\n",
    "from sklearn.metrics import mean_squared_error\n",
    "\n",
    "lm = LinearRegression()\n",
    "model = lm.fit(X_train_scaled_encoded,y_train)\n",
    "\n",
    "y_pred = model.predict(X_test_scaled_encoded)\n",
    "\n",
    "lm_mse = mean_squared_error(y_test, y_pred)\n",
    "print(f\"Test MSE using Linear Regression = {lm_mse}\")"
   ]
  },
  {
   "cell_type": "markdown",
   "metadata": {},
   "source": [
    "Ridge Regression"
   ]
  },
  {
   "cell_type": "code",
   "execution_count": null,
   "metadata": {},
   "outputs": [
    {
     "name": "stdout",
     "output_type": "stream",
     "text": [
      "Test MSE using Ridge regression = 0.020580943156582678\n"
     ]
    }
   ],
   "source": [
    "from sklearn.linear_model import Ridge\n",
    "from sklearn.metrics import mean_squared_error\n",
    "\n",
    "ridge = Ridge(alpha=100)\n",
    "model = ridge.fit(X_train_scaled_encoded,y_train)\n",
    "\n",
    "y_pred = model.predict(X_test_scaled_encoded)\n",
    "\n",
    "ridge_mse = mean_squared_error(y_test, y_pred)\n",
    "print(f\"Test MSE using Ridge regression = {ridge_mse}\")\n",
    "\n",
    "ridge_df = pd.DataFrame(list(zip(X_train_encoded.columns,ridge.coef_)), columns = ['predictor','coefficient'])"
   ]
  },
  {
   "cell_type": "markdown",
   "metadata": {},
   "source": [
    "Hyperparameter Tuning for Ridge Regression"
   ]
  },
  {
   "cell_type": "code",
   "execution_count": null,
   "metadata": {},
   "outputs": [
    {
     "name": "stdout",
     "output_type": "stream",
     "text": [
      "Alpha: 0.001, MSE: 0.02576\n",
      "Alpha: 0.01, MSE: 0.02576\n",
      "Alpha: 0.1, MSE: 0.02573\n",
      "Alpha: 1, MSE: 0.02567\n",
      "Alpha: 10, MSE: 0.02555\n",
      "Alpha: 100, MSE: 0.02543\n",
      "Best Alpha value for Ridge Regression is: 100\n",
      "Best Test MSE using Ridge regression = 0.02661\n"
     ]
    }
   ],
   "source": [
    "from sklearn.model_selection import GridSearchCV\n",
    "from sklearn.linear_model import Ridge\n",
    "from sklearn.metrics import mean_squared_error\n",
    "\n",
    "# Define the Ridge Regression model\n",
    "ridge = Ridge()\n",
    "\n",
    "# Define a grid of alpha values to search\n",
    "param_grid = {'alpha': [0.001, 0.01, 0.1, 1, 10, 100]}\n",
    "\n",
    "# Create the GridSearchCV object\n",
    "grid_search = GridSearchCV(estimator=ridge, param_grid=param_grid, scoring='neg_mean_squared_error', cv=5)\n",
    "\n",
    "# Fit the grid search to the data\n",
    "grid_search.fit(X_train_scaled_encoded, y_train)\n",
    "\n",
    "results = grid_search.cv_results_\n",
    "for mean_score, alpha in zip(results['mean_test_score'], param_grid['alpha']):\n",
    "    print(f\"Alpha: {alpha}, MSE: {round(-mean_score,5)}\")\n",
    "\n",
    "# Get the best alpha value and corresponding model\n",
    "best_alpha = grid_search.best_params_['alpha']\n",
    "best_model = grid_search.best_estimator_\n",
    "\n",
    "# Predict using the best model\n",
    "y_pred = best_model.predict(X_test_scaled_encoded)\n",
    "\n",
    "# Calculate mean squared error with the best model\n",
    "best_ridge_mse = mean_squared_error(y_test, y_pred)\n",
    "\n",
    "print(f\"Best Alpha value for Ridge Regression is: {best_alpha}\")\n",
    "\n",
    "print(f\"Best Test MSE using Ridge regression = {round(best_ridge_mse,5)}\")"
   ]
  },
  {
   "cell_type": "markdown",
   "metadata": {},
   "source": [
    "Lasso Regression"
   ]
  },
  {
   "cell_type": "code",
   "execution_count": null,
   "metadata": {},
   "outputs": [
    {
     "name": "stdout",
     "output_type": "stream",
     "text": [
      "Test MSE using Lasso regression = 0.020587162269535213\n"
     ]
    }
   ],
   "source": [
    "from sklearn.linear_model import Lasso\n",
    "from sklearn.metrics import mean_squared_error\n",
    "\n",
    "lasso = Lasso(alpha=0.0001, max_iter=10000)\n",
    "model = lasso.fit(X_train_scaled_encoded,y_train)\n",
    "\n",
    "y_pred = model.predict(X_test_scaled_encoded)\n",
    "\n",
    "lasso_mse = mean_squared_error(y_test, y_pred)\n",
    "print(f\"Test MSE using Lasso regression = {lasso_mse}\")"
   ]
  },
  {
   "cell_type": "markdown",
   "metadata": {},
   "source": [
    "Hyperparameter Tuning for Lasso Regression"
   ]
  },
  {
   "cell_type": "code",
   "execution_count": null,
   "metadata": {},
   "outputs": [],
   "source": [
    "from sklearn.linear_model import Lasso\n",
    "from sklearn.model_selection import GridSearchCV\n",
    "from sklearn.metrics import mean_squared_error\n",
    "\n",
    "# Define the Lasso Regression model\n",
    "lasso = Lasso(max_iter=10000)\n",
    "\n",
    "# Define a grid of alpha values to search\n",
    "param_grid = {\n",
    "    'alpha': [0.0001, 0.001, 0.01, 0.1, 1.0],  # Regularization strength\n",
    "}\n",
    "\n",
    "# Create the GridSearchCV object\n",
    "grid_search = GridSearchCV(estimator=lasso, param_grid=param_grid, scoring='neg_mean_squared_error', cv=5)\n",
    "\n",
    "# Fit the grid search to the encoded training data\n",
    "grid_search.fit(X_train_scaled_encoded, y_train)\n",
    "\n",
    "# Get the MSE for each alpha value\n",
    "results = grid_search.cv_results_\n",
    "for mean_score, alpha in zip(results['mean_test_score'], param_grid['alpha']):\n",
    "    mse_score = -mean_score  # Convert negative score to positive for MSE\n",
    "    print(f\"Alpha: {alpha}, MSE: {mse_score:.4f}\")\n",
    "\n",
    "# Get the best alpha value and corresponding model\n",
    "best_alpha = grid_search.best_params_['alpha']\n",
    "best_model = grid_search.best_estimator_\n",
    "\n",
    "# Predict using the best model\n",
    "y_pred = best_model.predict(X_test_scaled_encoded)\n",
    "\n",
    "# Calculate mean squared error with the best model\n",
    "best_lasso_mse = mean_squared_error(y_test, y_pred)\n",
    "print(f\"Best Alpha: {best_alpha}\")\n",
    "print(f\"Best Test MSE using Lasso regression: {best_lasso_mse:.4f}\")"
   ]
  },
  {
   "cell_type": "markdown",
   "metadata": {},
   "source": [
    "KNN"
   ]
  },
  {
   "cell_type": "code",
   "execution_count": null,
   "metadata": {},
   "outputs": [
    {
     "name": "stdout",
     "output_type": "stream",
     "text": [
      "Mean Squared Error (MSE) for KNeighborsRegressor: 0.021442088643726594\n"
     ]
    }
   ],
   "source": [
    "from sklearn.neighbors import KNeighborsRegressor\n",
    "from sklearn.metrics import mean_squared_error\n",
    "\n",
    "knn_regressor = KNeighborsRegressor(n_neighbors=20)\n",
    "\n",
    "model = knn_regressor.fit(X_train_scaled, y_train)\n",
    "\n",
    "y_pred = model.predict(X_test_scaled)  \n",
    "\n",
    "mse_knn = mean_squared_error(y_test, y_pred)\n",
    "print(f\"Mean Squared Error (MSE) for KNeighborsRegressor: {mse_knn}\")\n"
   ]
  },
  {
   "cell_type": "markdown",
   "metadata": {},
   "source": [
    "Hyperparameter Tuning for KNN"
   ]
  },
  {
   "cell_type": "code",
   "execution_count": null,
   "metadata": {},
   "outputs": [
    {
     "name": "stdout",
     "output_type": "stream",
     "text": [
      "n_neighbors: 1, MSE: 0.0482\n",
      "n_neighbors: 3, MSE: 0.0319\n",
      "n_neighbors: 5, MSE: 0.0292\n",
      "n_neighbors: 7, MSE: 0.028\n",
      "n_neighbors: 10, MSE: 0.0272\n",
      "n_neighbors: 15, MSE: 0.0266\n",
      "n_neighbors: 20, MSE: 0.0263\n",
      "Best n_neighbors for KNN is: 20\n",
      "Best Test MSE using KNeighborsRegressor = 0.0275\n"
     ]
    }
   ],
   "source": [
    "from sklearn.neighbors import KNeighborsRegressor\n",
    "from sklearn.model_selection import GridSearchCV\n",
    "from sklearn.metrics import mean_squared_error\n",
    "\n",
    "# Define the KNeighborsRegressor model\n",
    "knn_regressor = KNeighborsRegressor()\n",
    "\n",
    "# Define a grid of n_neighbors values to search\n",
    "param_grid = {'n_neighbors': [1, 3, 5, 7, 10, 15, 20]} \n",
    "\n",
    "# Create the GridSearchCV object\n",
    "grid_search = GridSearchCV(estimator=knn_regressor, param_grid=param_grid, scoring='neg_mean_squared_error', cv=5)\n",
    "\n",
    "# Fit the grid search to the scaled training data\n",
    "grid_search.fit(X_train_scaled, y_train)\n",
    "\n",
    "# Get the MSE for each n_neighbors value\n",
    "results = grid_search.cv_results_\n",
    "for mean_score, n_neighbors in zip(results['mean_test_score'], param_grid['n_neighbors']):\n",
    "    mse_score = -mean_score  # Convert negative score to positive for MSE\n",
    "    print(f\"n_neighbors: {n_neighbors}, MSE: {round(mse_score,4)}\")\n",
    "\n",
    "# Get the best n_neighbors value and corresponding model\n",
    "best_n_neighbors = grid_search.best_params_['n_neighbors']\n",
    "best_model = grid_search.best_estimator_\n",
    "\n",
    "# Predict using the best model\n",
    "y_pred = best_model.predict(X_test_scaled)\n",
    "\n",
    "# Calculate mean squared error with the best model\n",
    "print(f\"Best n_neighbors for KNN is: {best_n_neighbors}\")\n",
    "best_knn_mse = mean_squared_error(y_test, y_pred)\n",
    "print(f\"Best Test MSE using KNeighborsRegressor = {round(best_knn_mse,4)}\")"
   ]
  },
  {
   "cell_type": "markdown",
   "metadata": {},
   "source": [
    "Decision Trees"
   ]
  },
  {
   "cell_type": "code",
   "execution_count": null,
   "metadata": {},
   "outputs": [
    {
     "name": "stdout",
     "output_type": "stream",
     "text": [
      "Mean Squared Error (MSE) for DecisionTreeRegressor: 0.020627955452411396\n"
     ]
    }
   ],
   "source": [
    "from sklearn.tree import DecisionTreeRegressor\n",
    "from sklearn.metrics import mean_squared_error\n",
    "\n",
    "dt_regressor = DecisionTreeRegressor(max_depth=3, min_samples_leaf=1, min_samples_split=10, random_state=0)\n",
    "\n",
    "model = dt_regressor.fit(X_train, y_train)\n",
    "\n",
    "y_test_pred = model.predict(X_test)\n",
    "\n",
    "mse_dt = mean_squared_error(y_test, y_test_pred)\n",
    "print(f\"Mean Squared Error (MSE) for DecisionTreeRegressor: {mse_dt}\")"
   ]
  },
  {
   "cell_type": "markdown",
   "metadata": {},
   "source": [
    "Hyperparameter Tuning for Decision Trees"
   ]
  },
  {
   "cell_type": "code",
   "execution_count": null,
   "metadata": {},
   "outputs": [],
   "source": [
    "from sklearn.tree import DecisionTreeRegressor\n",
    "from sklearn.model_selection import GridSearchCV\n",
    "from sklearn.metrics import mean_squared_error\n",
    "\n",
    "# Define the DecisionTreeRegressor model\n",
    "dt_regressor = DecisionTreeRegressor()\n",
    "\n",
    "# Define a grid of hyperparameters to search\n",
    "param_grid = {\n",
    "    'max_depth': [3, 5, 7, 10],  # Maximum depth of the tree\n",
    "    'min_samples_split': [2, 5, 10],  # Minimum number of samples required to split an internal node\n",
    "    'min_samples_leaf': [1, 2, 4]  # Minimum number of samples required to be a leaf node\n",
    "}\n",
    "\n",
    "# Create the GridSearchCV object\n",
    "grid_search = GridSearchCV(estimator=dt_regressor, param_grid=param_grid, scoring='neg_mean_squared_error', cv=5)\n",
    "\n",
    "# Fit the grid search to the training data\n",
    "grid_search.fit(X_train, y_train)\n",
    "\n",
    "# Get the best parameters and corresponding model\n",
    "best_params = grid_search.best_params_\n",
    "best_model = grid_search.best_estimator_\n",
    "\n",
    "# Predict using the best model\n",
    "y_test_pred = best_model.predict(X_test)\n",
    "\n",
    "# Calculate mean squared error with the best model\n",
    "best_mse_dt = mean_squared_error(y_test, y_test_pred)\n",
    "print(f\"Best Test MSE using DecisionTreeRegressor: {best_mse_dt:.4f}\")\n",
    "print(f\"Best Hyperparameters: {best_params}\")"
   ]
  },
  {
   "cell_type": "markdown",
   "metadata": {},
   "source": [
    "Random Forest"
   ]
  },
  {
   "cell_type": "code",
   "execution_count": null,
   "metadata": {},
   "outputs": [
    {
     "name": "stdout",
     "output_type": "stream",
     "text": [
      "Mean Squared Error (MSE): 0.02040994232126622\n"
     ]
    }
   ],
   "source": [
    "from sklearn.ensemble import RandomForestRegressor\n",
    "from sklearn.metrics import mean_squared_error\n",
    "\n",
    "randomforest = RandomForestRegressor(random_state=0, n_estimators=300, max_features='log2', max_depth=10, min_samples_leaf=2, min_samples_split=5)\n",
    "model_rf = randomforest.fit(X_train, y_train)\n",
    "\n",
    "y_test_pred = model_rf.predict(X_test)\n",
    "\n",
    "mse_rf = mean_squared_error(y_test, y_test_pred)\n",
    "print(f\"Mean Squared Error (MSE): {mse_rf}\")\n"
   ]
  },
  {
   "cell_type": "markdown",
   "metadata": {},
   "source": [
    "Hyperparameter Tuning for Random Forest"
   ]
  },
  {
   "cell_type": "code",
   "execution_count": null,
   "metadata": {},
   "outputs": [
    {
     "name": "stdout",
     "output_type": "stream",
     "text": [
      "Best Hyperparameters: {'n_estimators': 300}\n",
      "Best Test MSE using RandomForestRegressor: 0.0278\n"
     ]
    }
   ],
   "source": [
    "from sklearn.ensemble import RandomForestRegressor\n",
    "from sklearn.model_selection import GridSearchCV\n",
    "from sklearn.metrics import mean_squared_error\n",
    "\n",
    "# Define the RandomForestRegressor model\n",
    "randomforest = RandomForestRegressor(random_state=0)\n",
    "\n",
    "# Define a grid of hyperparameters to search\n",
    "param_grid = {\n",
    "    'n_estimators': [100, 200, 300]  # Number of trees in the forest\n",
    "}\n",
    "\n",
    "# Create the GridSearchCV object\n",
    "grid_search = GridSearchCV(estimator=randomforest, param_grid=param_grid, scoring='neg_mean_squared_error', cv=5)\n",
    "\n",
    "# Fit the grid search to the training data\n",
    "grid_search.fit(X_train, y_train)\n",
    "\n",
    "# Get the best parameters and corresponding model\n",
    "best_params = grid_search.best_params_\n",
    "best_model = grid_search.best_estimator_\n",
    "\n",
    "# Predict using the best model\n",
    "y_test_pred = best_model.predict(X_test)\n",
    "\n",
    "# Calculate mean squared error with the best model\n",
    "best_mse_rf = mean_squared_error(y_test, y_test_pred)\n",
    "print(f\"Best Hyperparameters: {best_params}\")\n",
    "print(f\"Best Test MSE using RandomForestRegressor: {best_mse_rf:.4f}\")"
   ]
  },
  {
   "cell_type": "markdown",
   "metadata": {},
   "source": [
    "Gradient Boosting"
   ]
  },
  {
   "cell_type": "code",
   "execution_count": null,
   "metadata": {},
   "outputs": [
    {
     "name": "stdout",
     "output_type": "stream",
     "text": [
      "Mean Squared Error (MSE): 0.020532961522145086\n"
     ]
    }
   ],
   "source": [
    "from sklearn.ensemble import GradientBoostingRegressor\n",
    "from sklearn.metrics import mean_squared_error\n",
    "\n",
    "gbt = GradientBoostingRegressor(random_state=0, n_estimators=50, max_features=None, max_depth=3, min_samples_leaf=1, min_samples_split=2, learning_rate=0.1)\n",
    "model_gbt = gbt.fit(X_train, y_train)\n",
    "\n",
    "y_test_pred = model_gbt.predict(X_test)\n",
    "\n",
    "mse_gbt = mean_squared_error(y_test, y_test_pred)\n",
    "print(f\"Mean Squared Error (MSE): {mse_gbt}\")\n"
   ]
  },
  {
   "cell_type": "markdown",
   "metadata": {},
   "source": [
    "Hyperparameter Tuning For Gradient Boosting"
   ]
  },
  {
   "cell_type": "code",
   "execution_count": null,
   "metadata": {},
   "outputs": [],
   "source": [
    "from sklearn.ensemble import GradientBoostingRegressor\n",
    "from sklearn.model_selection import GridSearchCV\n",
    "from sklearn.metrics import mean_squared_error\n",
    "\n",
    "# Define the GradientBoostingRegressor model\n",
    "gbt = GradientBoostingRegressor(random_state=0)\n",
    "\n",
    "# Define a grid of hyperparameters to search\n",
    "param_grid = {\n",
    "    'n_estimators': [100, 200, 300],  # Number of boosting stages\n",
    "    'learning_rate': [0.01, 0.1, 0.5],  # Step size shrinkage used in each boosting stage\n",
    "    'max_depth': [3, 5, 7],  # Maximum depth of the individual trees\n",
    "    'min_samples_split': [2, 5, 10],  # Minimum number of samples required to split an internal node\n",
    "    'min_samples_leaf': [1, 2, 4]  # Minimum number of samples required to be a leaf node\n",
    "}\n",
    "\n",
    "# Create the GridSearchCV object\n",
    "grid_search = GridSearchCV(estimator=gbt, param_grid=param_grid, scoring='neg_mean_squared_error', cv=5)\n",
    "\n",
    "# Fit the grid search to the training data\n",
    "grid_search.fit(X_train, y_train)\n",
    "\n",
    "# Get the best parameters and corresponding model\n",
    "best_params = grid_search.best_params_\n",
    "best_model = grid_search.best_estimator_\n",
    "\n",
    "# Predict using the best model\n",
    "y_test_pred = best_model.predict(X_test)\n",
    "\n",
    "# Calculate mean squared error with the best model\n",
    "best_mse_gbt = mean_squared_error(y_test, y_test_pred)\n",
    "print(f\"Best Test MSE using GradientBoostingRegressor: {best_mse_gbt:.4f}\")\n",
    "print(f\"Best Hyperparameters: {best_params}\")"
   ]
  },
  {
   "cell_type": "markdown",
   "metadata": {},
   "source": [
    "Artificial Neural Network"
   ]
  },
  {
   "cell_type": "code",
   "execution_count": null,
   "metadata": {},
   "outputs": [
    {
     "name": "stdout",
     "output_type": "stream",
     "text": [
      "Mean Squared Error (MSE) for ANN: 0.02300740798381119\n"
     ]
    }
   ],
   "source": [
    "from sklearn.neural_network import MLPRegressor\n",
    "from sklearn.metrics import mean_squared_error\n",
    "\n",
    "mlp_regressor = MLPRegressor(hidden_layer_sizes=(64, 32), momentum=0.9, random_state=0)\n",
    "\n",
    "mlp_regressor.fit(X_train_scaled_encoded, y_train)\n",
    "\n",
    "y_test_pred = mlp_regressor.predict(X_test_scaled_encoded)\n",
    "\n",
    "mse_ann_scaled = mean_squared_error(y_test, y_test_pred)\n",
    "print(f\"Mean Squared Error (MSE) for ANN: {mse_ann_scaled}\")\n"
   ]
  },
  {
   "cell_type": "markdown",
   "metadata": {},
   "source": [
    "Hyperparameter Tuning for Artificial Neural Network"
   ]
  },
  {
   "cell_type": "code",
   "execution_count": null,
   "metadata": {},
   "outputs": [],
   "source": [
    "from sklearn.neural_network import MLPRegressor\n",
    "from sklearn.model_selection import GridSearchCV\n",
    "from sklearn.metrics import mean_squared_error\n",
    "\n",
    "# Define the MLPRegressor model\n",
    "mlp_regressor = MLPRegressor(random_state=0)\n",
    "\n",
    "# Define a grid of hyperparameters to search\n",
    "param_grid = {\n",
    "    'hidden_layer_sizes': [(64, 32), (32, 16), (128, 64)],  # Structure of hidden layers\n",
    "    'activation': ['relu', 'tanh'],  # Activation function\n",
    "    'solver': ['adam', 'sgd'],  # Solver for weight optimization\n",
    "    'alpha': [0.0001, 0.001, 0.01]  # L2 penalty (regularization term) parameter\n",
    "}\n",
    "\n",
    "# Create the GridSearchCV object\n",
    "grid_search = GridSearchCV(estimator=mlp_regressor, param_grid=param_grid, scoring='neg_mean_squared_error', cv=5)\n",
    "\n",
    "# Fit the grid search to the scaled training data\n",
    "grid_search.fit(X_train_scaled_encoded, y_train)\n",
    "\n",
    "# Get the best parameters and corresponding model\n",
    "best_params = grid_search.best_params_\n",
    "best_model = grid_search.best_estimator_\n",
    "\n",
    "# Predict using the best model\n",
    "y_test_pred = best_model.predict(X_test_scaled_encoded)\n",
    "\n",
    "# Calculate mean squared error with the best model\n",
    "best_mse_ann = mean_squared_error(y_test, y_test_pred)\n",
    "print(f\"Best Test MSE using MLPRegressor: {best_mse_ann:.4f}\")\n",
    "print(f\"Best Hyperparameters: {best_params}\")"
   ]
  },
  {
   "cell_type": "markdown",
   "metadata": {},
   "source": [
    "Best Model Selected - Random Forest - Model Interpretation"
   ]
  },
  {
   "cell_type": "code",
   "execution_count": null,
   "metadata": {},
   "outputs": [
    {
     "name": "stdout",
     "output_type": "stream",
     "text": [
      "Mean Squared Error (MSE): 0.02040994232126622\n"
     ]
    }
   ],
   "source": [
    "from sklearn.ensemble import RandomForestRegressor\n",
    "from sklearn.metrics import mean_squared_error\n",
    "\n",
    "randomforest = RandomForestRegressor(random_state=0, n_estimators=300, max_features='log2', max_depth=10, min_samples_leaf=2, min_samples_split=5)\n",
    "model_rf = randomforest.fit(X_train, y_train)\n",
    "\n",
    "y_test_pred = model_rf.predict(X_test)\n",
    "\n",
    "mse_rf = mean_squared_error(y_test, y_test_pred)\n",
    "print(f\"Mean Squared Error (MSE): {mse_rf}\")"
   ]
  },
  {
   "cell_type": "markdown",
   "metadata": {},
   "source": [
    "Feature Importance Scores"
   ]
  },
  {
   "cell_type": "code",
   "execution_count": null,
   "metadata": {},
   "outputs": [
    {
     "data": {
      "image/png": "[encoded data removed]",
      "text/plain": [
       "<Figure size 1000x600 with 1 Axes>"
      ]
     },
     "metadata": {},
     "output_type": "display_data"
    }
   ],
   "source": [
    "import matplotlib.pyplot as plt\n",
    "\n",
    "# Feature Importance\n",
    "importance = model_rf.feature_importances_\n",
    "sorted_idx = importance.argsort()[::-1]\n",
    "\n",
    "# Plot Feature Importance\n",
    "plt.figure(figsize=(10, 6))\n",
    "plt.bar(range(X_train.shape[1]), importance[sorted_idx], align='center')\n",
    "plt.xticks(range(X_train.shape[1]), X_train.columns[sorted_idx], rotation=90)\n",
    "plt.xlabel('Features')\n",
    "plt.ylabel('Importance Score')\n",
    "plt.title('Feature Importance - Random Forest Regressor')\n",
    "plt.show()"
   ]
  },
  {
   "cell_type": "markdown",
   "metadata": {},
   "source": [
    "Prediction Analysis"
   ]
  },
  {
   "cell_type": "code",
   "execution_count": null,
   "metadata": {},
   "outputs": [
    {
     "data": {
      "image/png": "[encoded data removed]",
      "text/plain": [
       "<Figure size 800x600 with 1 Axes>"
      ]
     },
     "metadata": {},
     "output_type": "display_data"
    }
   ],
   "source": [
    "# Visualize Actual vs. Predicted values\n",
    "plt.figure(figsize=(8, 6))\n",
    "plt.scatter(y_test, y_test_pred, alpha=0.5)\n",
    "plt.xlabel('Actual')\n",
    "plt.ylabel('Predicted')\n",
    "plt.title('Actual vs. Predicted values - Random Forest Regressor')\n",
    "plt.show()"
   ]
  }
 ],
 "metadata": {
  "kernelspec": {
   "display_name": "base",
   "language": "python",
   "name": "python3"
  },
  "language_info": {
   "codemirror_mode": {
    "name": "ipython",
    "version": 3
   },
   "file_extension": ".py",
   "mimetype": "text/x-python",
   "name": "python",
   "nbconvert_exporter": "python",
   "pygments_lexer": "ipython3",
   "version": "3.11.3"
  }
 },
 "nbformat": 4,
 "nbformat_minor": 2
}
